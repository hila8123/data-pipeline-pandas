{
 "cells": [
  {
   "cell_type": "code",
   "execution_count": null,
   "metadata": {},
   "outputs": [],
   "source": [
    "# !pip install pandas"
   ]
  },
  {
   "cell_type": "code",
   "execution_count": 10,
   "metadata": {},
   "outputs": [],
   "source": [
    "import os\n",
    "import pandas as pd"
   ]
  },
  {
   "cell_type": "code",
   "execution_count": 11,
   "metadata": {},
   "outputs": [],
   "source": [
    "cwd = os.getcwd() # dirname(abspath(__file__))\n",
    "BASE_DIR = os.path.dirname(cwd)\n",
    "DATA_DIR = os.path.join(BASE_DIR, 'data')"
   ]
  },
  {
   "cell_type": "code",
   "execution_count": 12,
   "metadata": {},
   "outputs": [
    {
     "data": {
      "text/plain": [
       "['2020.csv',\n",
       " '2019.csv',\n",
       " '2018.csv',\n",
       " '2001.csv',\n",
       " '2015.csv',\n",
       " '2014.csv',\n",
       " '2000.csv',\n",
       " '2016.csv',\n",
       " '2002.csv',\n",
       " '2003.csv',\n",
       " '2017.csv',\n",
       " '2013.csv',\n",
       " '2012.csv',\n",
       " '2004.csv',\n",
       " '2010.csv',\n",
       " '2011.csv',\n",
       " '2005.csv']"
      ]
     },
     "execution_count": 12,
     "metadata": {},
     "output_type": "execute_result"
    }
   ],
   "source": [
    "os.listdir(DATA_DIR)"
   ]
  },
  {
   "cell_type": "code",
   "execution_count": 15,
   "metadata": {},
   "outputs": [],
   "source": [
    "my_data = os.path.join(DATA_DIR, '2019.csv')\n",
    "df = pd.read_csv(my_data)"
   ]
  },
  {
   "cell_type": "code",
   "execution_count": 16,
   "metadata": {},
   "outputs": [
    {
     "data": {
      "text/html": [
       "<div>\n",
       "<style scoped>\n",
       "    .dataframe tbody tr th:only-of-type {\n",
       "        vertical-align: middle;\n",
       "    }\n",
       "\n",
       "    .dataframe tbody tr th {\n",
       "        vertical-align: top;\n",
       "    }\n",
       "\n",
       "    .dataframe thead th {\n",
       "        text-align: right;\n",
       "    }\n",
       "</style>\n",
       "<table border=\"1\" class=\"dataframe\">\n",
       "  <thead>\n",
       "    <tr style=\"text-align: right;\">\n",
       "      <th></th>\n",
       "      <th>Rank</th>\n",
       "      <th>Release Group</th>\n",
       "      <th>Worldwide</th>\n",
       "      <th>Domestic</th>\n",
       "      <th>%</th>\n",
       "      <th>Foreign</th>\n",
       "      <th>%.1</th>\n",
       "    </tr>\n",
       "  </thead>\n",
       "  <tbody>\n",
       "    <tr>\n",
       "      <th>0</th>\n",
       "      <td>1</td>\n",
       "      <td>Avengers: Endgame</td>\n",
       "      <td>$2,797,800,564</td>\n",
       "      <td>$858,373,000</td>\n",
       "      <td>30.7%</td>\n",
       "      <td>$1,939,427,564</td>\n",
       "      <td>69.3%</td>\n",
       "    </tr>\n",
       "    <tr>\n",
       "      <th>1</th>\n",
       "      <td>2</td>\n",
       "      <td>The Lion King</td>\n",
       "      <td>$1,656,943,394</td>\n",
       "      <td>$543,638,043</td>\n",
       "      <td>32.8%</td>\n",
       "      <td>$1,113,305,351</td>\n",
       "      <td>67.2%</td>\n",
       "    </tr>\n",
       "    <tr>\n",
       "      <th>2</th>\n",
       "      <td>3</td>\n",
       "      <td>Frozen II</td>\n",
       "      <td>$1,450,026,933</td>\n",
       "      <td>$477,373,578</td>\n",
       "      <td>32.9%</td>\n",
       "      <td>$972,653,355</td>\n",
       "      <td>67.1%</td>\n",
       "    </tr>\n",
       "    <tr>\n",
       "      <th>3</th>\n",
       "      <td>4</td>\n",
       "      <td>Spider-Man: Far from Home</td>\n",
       "      <td>$1,131,927,996</td>\n",
       "      <td>$390,532,085</td>\n",
       "      <td>34.5%</td>\n",
       "      <td>$741,395,911</td>\n",
       "      <td>65.5%</td>\n",
       "    </tr>\n",
       "    <tr>\n",
       "      <th>4</th>\n",
       "      <td>5</td>\n",
       "      <td>Captain Marvel</td>\n",
       "      <td>$1,128,274,794</td>\n",
       "      <td>$426,829,839</td>\n",
       "      <td>37.8%</td>\n",
       "      <td>$701,444,955</td>\n",
       "      <td>62.2%</td>\n",
       "    </tr>\n",
       "    <tr>\n",
       "      <th>5</th>\n",
       "      <td>6</td>\n",
       "      <td>Joker</td>\n",
       "      <td>$1,074,251,311</td>\n",
       "      <td>$335,451,311</td>\n",
       "      <td>31.2%</td>\n",
       "      <td>$738,800,000</td>\n",
       "      <td>68.8%</td>\n",
       "    </tr>\n",
       "    <tr>\n",
       "      <th>6</th>\n",
       "      <td>7</td>\n",
       "      <td>Star Wars: Episode IX - The Rise of Skywalker</td>\n",
       "      <td>$1,074,144,248</td>\n",
       "      <td>$515,202,542</td>\n",
       "      <td>48%</td>\n",
       "      <td>$558,941,706</td>\n",
       "      <td>52%</td>\n",
       "    </tr>\n",
       "    <tr>\n",
       "      <th>7</th>\n",
       "      <td>8</td>\n",
       "      <td>Toy Story 4</td>\n",
       "      <td>$1,073,394,593</td>\n",
       "      <td>$434,038,008</td>\n",
       "      <td>40.4%</td>\n",
       "      <td>$639,356,585</td>\n",
       "      <td>59.6%</td>\n",
       "    </tr>\n",
       "    <tr>\n",
       "      <th>8</th>\n",
       "      <td>9</td>\n",
       "      <td>Aladdin</td>\n",
       "      <td>$1,050,693,953</td>\n",
       "      <td>$355,559,216</td>\n",
       "      <td>33.8%</td>\n",
       "      <td>$695,134,737</td>\n",
       "      <td>66.2%</td>\n",
       "    </tr>\n",
       "    <tr>\n",
       "      <th>9</th>\n",
       "      <td>10</td>\n",
       "      <td>Jumanji: The Next Level</td>\n",
       "      <td>$796,575,993</td>\n",
       "      <td>$316,831,246</td>\n",
       "      <td>39.8%</td>\n",
       "      <td>$479,744,747</td>\n",
       "      <td>60.2%</td>\n",
       "    </tr>\n",
       "  </tbody>\n",
       "</table>\n",
       "</div>"
      ],
      "text/plain": [
       "   Rank                                  Release Group       Worldwide  \\\n",
       "0     1                              Avengers: Endgame  $2,797,800,564   \n",
       "1     2                                  The Lion King  $1,656,943,394   \n",
       "2     3                                      Frozen II  $1,450,026,933   \n",
       "3     4                      Spider-Man: Far from Home  $1,131,927,996   \n",
       "4     5                                 Captain Marvel  $1,128,274,794   \n",
       "5     6                                          Joker  $1,074,251,311   \n",
       "6     7  Star Wars: Episode IX - The Rise of Skywalker  $1,074,144,248   \n",
       "7     8                                    Toy Story 4  $1,073,394,593   \n",
       "8     9                                        Aladdin  $1,050,693,953   \n",
       "9    10                        Jumanji: The Next Level    $796,575,993   \n",
       "\n",
       "       Domestic      %         Foreign    %.1  \n",
       "0  $858,373,000  30.7%  $1,939,427,564  69.3%  \n",
       "1  $543,638,043  32.8%  $1,113,305,351  67.2%  \n",
       "2  $477,373,578  32.9%    $972,653,355  67.1%  \n",
       "3  $390,532,085  34.5%    $741,395,911  65.5%  \n",
       "4  $426,829,839  37.8%    $701,444,955  62.2%  \n",
       "5  $335,451,311  31.2%    $738,800,000  68.8%  \n",
       "6  $515,202,542    48%    $558,941,706    52%  \n",
       "7  $434,038,008  40.4%    $639,356,585  59.6%  \n",
       "8  $355,559,216  33.8%    $695,134,737  66.2%  \n",
       "9  $316,831,246  39.8%    $479,744,747  60.2%  "
      ]
     },
     "execution_count": 16,
     "metadata": {},
     "output_type": "execute_result"
    }
   ],
   "source": [
    "df.head(10)"
   ]
  },
  {
   "cell_type": "code",
   "execution_count": null,
   "metadata": {},
   "outputs": [],
   "source": []
  }
 ],
 "metadata": {
  "kernelspec": {
   "display_name": "Python 3",
   "language": "python",
   "name": "python3"
  },
  "language_info": {
   "codemirror_mode": {
    "name": "ipython",
    "version": 3
   },
   "file_extension": ".py",
   "mimetype": "text/x-python",
   "name": "python",
   "nbconvert_exporter": "python",
   "pygments_lexer": "ipython3",
   "version": "3.8.3"
  }
 },
 "nbformat": 4,
 "nbformat_minor": 4
}
